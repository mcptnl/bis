{
 "cells": [
  {
   "cell_type": "code",
   "execution_count": 93,
   "metadata": {},
   "outputs": [
    {
     "data": {
      "application/vnd.jupyter.widget-view+json": {
       "model_id": "9139ee20a0c146d58e48a7c2d06ee26e",
       "version_major": 2,
       "version_minor": 0
      },
      "text/plain": [
       "IntText(value=0, description='Loan Period:')"
      ]
     },
     "metadata": {},
     "output_type": "display_data"
    },
    {
     "data": {
      "application/vnd.jupyter.widget-view+json": {
       "model_id": "1b4a08f215a446c7ae95c0985e1e9cdb",
       "version_major": 2,
       "version_minor": 0
      },
      "text/plain": [
       "FloatText(value=0.0, description='Annual Interest Rate %:')"
      ]
     },
     "metadata": {},
     "output_type": "display_data"
    }
   ],
   "source": [
    "amount = wg.IntText(description='Loan Amount:')\n",
    "amount = wg.IntText(description='Loan Period:')\n",
    "\n",
    "int_rate = wg.FloatText(description='Annual Interest Rate %:')\n",
    "\n",
    "display(amount, int_rate)"
   ]
  },
  {
   "cell_type": "code",
   "execution_count": 102,
   "metadata": {},
   "outputs": [],
   "source": [
    "from IPython.display import display\n",
    "from IPython.display import HTML\n",
    "from ipywidgets import interact\n",
    "import ipywidgets as widgets\n",
    "import numpy as np \n",
    "\n",
    "import matplotlib.pyplot as plt\n",
    "import numpy as np\n",
    "import nbinteract as nbi\n",
    "\n",
    "# funciones necesarias\n",
    "\n",
    "# esta es la funcion de cuota mensual total\n",
    "def get_cuota_mensual_total(p, i, n):\n",
    "    num = p * i * (i+1)**n\n",
    "    den = (i+1)**n - 1\n",
    "    return num/den\n",
    "\n",
    "# esta es la funcion de deuda capital en el mes t\n",
    "def get_deuda_capital(p, i, n, t):\n",
    "    coef = (((1+i)**t) - 1) / (((1+i)**n) - 1)\n",
    "    return p * ( 1 - coef )\n",
    "\n",
    "# esta funcion muestra la evolucion mes a mes del credito\n",
    "def show_list(P, I, N):\n",
    "    \n",
    "    p = P\n",
    "    i = I / 12.0 * 0.01\n",
    "    n = N * 12\n",
    "    \n",
    "    # calculo cuota mensual total\n",
    "    cuota_total = get_cuota_mensual_total(p, i, n)\n",
    "    print(\"Average monthly payment in £: \" + str(round (cuota_total,2)) + \"\\n\")\n",
    "    \n",
    "    \n",
    "    cuota_capital = []\n",
    "    cuota_interes = []\n",
    "    deuda_capital = []\n",
    "    t_array = []\n",
    "    print(\"List of monthly payments: \\n\")\n",
    "    print(\"Month \\t Payment \\t Interest \\t Outs. Balance\")\n",
    "\n",
    "    for t in range(1, n+1):    \n",
    "\n",
    "        t_array.append(t)\n",
    "        cuota_capital.append(get_deuda_capital(p, i, n, t-1) - get_deuda_capital(p, i, n, t))\n",
    "        cuota_interes.append(cuota_total - cuota_capital[t-1])\n",
    "        deuda_capital.append(get_deuda_capital(p, i, n, t))\n",
    "\n",
    "        print(str(t) + \"         \" + \\\n",
    "              str('%.2f'%(cuota_capital[t-1])) + \"         \" + \\\n",
    "              str('%.2f'%(cuota_interes[t-1])) + \"         \" + \\\n",
    "              str('%.2f'%(deuda_capital[t-1]))\n",
    "             )\n",
    "\n",
    "#meses = np.linspace(1, 20*12, 20*12)\n",
    "def get_mes(N):\n",
    "    return np.linspace(1, N, N)\n",
    "\n",
    "def get_cuota_mensual_total_2(xs):\n",
    "    print(\"hi\")\n",
    "    p=1000000\n",
    "    i=0.14\n",
    "    out = []\n",
    "    for n in xs:\n",
    "        #print(n)\n",
    "        num = p * i * (i+1)**n\n",
    "        den = (i+1)**n - 1\n",
    "    out.append(num/den)\n",
    "    return out\n",
    "\n",
    "#nbinteract --spec Untitled1.ipynb\n",
    "#nbi.line(get_mes, get_cuota_mensual_total_2, N=(1, 240))"
   ]
  },
  {
   "cell_type": "code",
   "execution_count": 106,
   "metadata": {},
   "outputs": [
    {
     "data": {
      "application/vnd.jupyter.widget-view+json": {
       "model_id": "f6f12ea3ca2f48c0b1a360d00e089fc9",
       "version_major": 2,
       "version_minor": 0
      },
      "text/plain": [
       "interactive(children=(BoundedIntText(value=100000, description='Loan Amount:', max=1000000, min=1, step=100), …"
      ]
     },
     "metadata": {},
     "output_type": "display_data"
    },
    {
     "data": {
      "text/plain": [
       "<function __main__.show_list(P, I, N)>"
      ]
     },
     "execution_count": 106,
     "metadata": {},
     "output_type": "execute_result"
    }
   ],
   "source": [
    "\n",
    "interact(show_list,\n",
    "         P=wg.BoundedIntText(description='Loan Amount:',value=100000,\n",
    "    min=1,\n",
    "    max=1000000,\n",
    "    step=100)\n",
    "         , I=wg.BoundedFloatText(description='Interest Rate:', value=2.2, min=1, max=10, step=0.1), \n",
    "         N=wg.BoundedIntText(description='Years:', value=2, min=1, max=10, step=0.1))\n",
    "\n"
   ]
  },
  {
   "cell_type": "code",
   "execution_count": 104,
   "metadata": {},
   "outputs": [
    {
     "data": {
      "text/html": [
       "<script>\n",
       "        code_show=true; \n",
       "        function code_toggle(){\n",
       "            if (code_show){ $('div.input').hide(); $('div.prompt').hide(); } \n",
       "            else { $('div.input').show(); $('div.prompt').show(); } \n",
       "            code_showk = !code_show }\n",
       "        $( document ).ready(code_toggle); \n",
       "        </script>"
      ]
     },
     "metadata": {},
     "output_type": "display_data"
    },
    {
     "data": {
      "text/html": [
       "<button onclick=\"javascript:code_toggle()\">Mostrar/Ocultar Codigo</button>"
      ]
     },
     "metadata": {},
     "output_type": "display_data"
    }
   ],
   "source": [
    "from IPython.display import Image, Javascript\n",
    "from IPython.core.display import display, display_html, HTML\n",
    "display_html(\n",
    "    '''<script>\n",
    "        code_show=true; \n",
    "        function code_toggle(){\n",
    "            if (code_show){ $('div.input').hide(); $('div.prompt').hide(); } \n",
    "            else { $('div.input').show(); $('div.prompt').show(); } \n",
    "            code_showk = !code_show }\n",
    "        $( document ).ready(code_toggle); \n",
    "        </script>'''\n",
    "    , raw=True)\n",
    "\n",
    "\n",
    "display_html('<button onclick=\"javascript:code_toggle()\">Mostrar/Ocultar Codigo</button>', raw=True)"
   ]
  },
  {
   "cell_type": "code",
   "execution_count": null,
   "metadata": {},
   "outputs": [],
   "source": []
  },
  {
   "cell_type": "code",
   "execution_count": null,
   "metadata": {},
   "outputs": [],
   "source": []
  }
 ],
 "metadata": {
  "kernelspec": {
   "display_name": "Python 3",
   "language": "python",
   "name": "python3"
  },
  "language_info": {
   "codemirror_mode": {
    "name": "ipython",
    "version": 3
   },
   "file_extension": ".py",
   "mimetype": "text/x-python",
   "name": "python",
   "nbconvert_exporter": "python",
   "pygments_lexer": "ipython3",
   "version": "3.6.5"
  }
 },
 "nbformat": 4,
 "nbformat_minor": 2
}
