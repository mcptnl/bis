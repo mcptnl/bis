{
 "cells": [
  {
   "cell_type": "code",
   "execution_count": 25,
   "metadata": {},
   "outputs": [
    {
     "data": {
      "application/vnd.jupyter.widget-view+json": {
       "model_id": "937dd42df3cf42cb91ea47d4aeb85dec",
       "version_major": 2,
       "version_minor": 0
      },
      "text/plain": [
       "interactive(children=(IntSlider(value=10, description='x', max=30, min=-10), Output()), _dom_classes=('widget-…"
      ]
     },
     "metadata": {},
     "output_type": "display_data"
    },
    {
     "data": {
      "text/plain": [
       "<function __main__.f(x)>"
      ]
     },
     "execution_count": 25,
     "metadata": {},
     "output_type": "execute_result"
    }
   ],
   "source": [
    "import ipywidgets as wg\n",
    "from ipywidgets import interact, widgets\n",
    "from ipywidgets import interact, interactive, fixed, interact_manual\n",
    "import ipywidgets as widgets\n",
    "\n",
    "\n",
    "\n",
    "def f(x):\n",
    "    return x\n",
    "interact(f,x=10)"
   ]
  },
  {
   "cell_type": "code",
   "execution_count": 26,
   "metadata": {},
   "outputs": [
    {
     "data": {
      "application/vnd.jupyter.widget-view+json": {
       "model_id": "bcd56006f3ff45c8b22bf3817c59fb1f",
       "version_major": 2,
       "version_minor": 0
      },
      "text/plain": [
       "IntSlider(value=0)"
      ]
     },
     "metadata": {},
     "output_type": "display_data"
    }
   ],
   "source": [
    "w= widgets.IntSlider()\n",
    "display(w)\n"
   ]
  },
  {
   "cell_type": "code",
   "execution_count": 27,
   "metadata": {},
   "outputs": [
    {
     "data": {
      "application/vnd.jupyter.widget-view+json": {
       "model_id": "1c33b26af33942329a17d8df40d24330",
       "version_major": 2,
       "version_minor": 0
      },
      "text/plain": [
       "IntText(value=0, description='Loan Period:')"
      ]
     },
     "metadata": {},
     "output_type": "display_data"
    },
    {
     "data": {
      "application/vnd.jupyter.widget-view+json": {
       "model_id": "f18726a59eca40b99882cda8c5342b22",
       "version_major": 2,
       "version_minor": 0
      },
      "text/plain": [
       "FloatText(value=0.0, description='Annual Interest Rate %:')"
      ]
     },
     "metadata": {},
     "output_type": "display_data"
    }
   ],
   "source": [
    "amount = wg.IntText(description='Loan Amount:')\n",
    "amount = wg.IntText(description='Loan Period:')\n",
    "\n",
    "int_rate = wg.FloatText(description='Annual Interest Rate %:')\n",
    "\n",
    "display(amount, int_rate)"
   ]
  },
  {
   "cell_type": "code",
   "execution_count": 28,
   "metadata": {},
   "outputs": [
    {
     "data": {
      "text/plain": [
       "1242.0"
      ]
     },
     "execution_count": 28,
     "metadata": {},
     "output_type": "execute_result"
    }
   ],
   "source": [
    "amount.value*int_rate.value"
   ]
  },
  {
   "cell_type": "code",
   "execution_count": 74,
   "metadata": {},
   "outputs": [],
   "source": [
    "from IPython.display import display\n",
    "from IPython.display import HTML\n",
    "from ipywidgets import interact\n",
    "import ipywidgets as widgets\n",
    "import numpy as np \n",
    "\n",
    "import matplotlib.pyplot as plt\n",
    "import numpy as np\n",
    "import nbinteract as nbi\n",
    "\n",
    "# funciones necesarias\n",
    "\n",
    "# esta es la funcion de cuota mensual total\n",
    "def get_cuota_mensual_total(p, i, n):\n",
    "    num = p * i * (i+1)**n\n",
    "    den = (i+1)**n - 1\n",
    "    return num/den\n",
    "\n",
    "# esta es la funcion de deuda capital en el mes t\n",
    "def get_deuda_capital(p, i, n, t):\n",
    "    coef = (((1+i)**t) - 1) / (((1+i)**n) - 1)\n",
    "    return p * ( 1 - coef )\n",
    "\n",
    "# esta funcion muestra la evolucion mes a mes del credito\n",
    "def mostrar_evolucion_credito(P, I, N):\n",
    "    \n",
    "    p = P\n",
    "    i = I / 12.0 * 0.01\n",
    "    n = N * 12\n",
    "    \n",
    "    # calculo cuota mensual total\n",
    "    cuota_total = get_cuota_mensual_total(p, i, n)\n",
    "    print(\"Average monthly payment in £: \" + str(round (cuota_total,2)) + \"\\n\")\n",
    "    \n",
    "    \n",
    "    cuota_capital = []\n",
    "    cuota_interes = []\n",
    "    deuda_capital = []\n",
    "    t_array = []\n",
    "    print(\"List of monthly payments: \\n\")\n",
    "    print(\"Month \\t Payment \\t Interest \\t Outs. Balance\")\n",
    "\n",
    "    for t in range(1, n+1):    \n",
    "\n",
    "        t_array.append(t)\n",
    "        cuota_capital.append(get_deuda_capital(p, i, n, t-1) - get_deuda_capital(p, i, n, t))\n",
    "        cuota_interes.append(cuota_total - cuota_capital[t-1])\n",
    "        deuda_capital.append(get_deuda_capital(p, i, n, t))\n",
    "\n",
    "        print(str(t) + \"         \" + \\\n",
    "              str('%.2f'%(cuota_capital[t-1])) + \"         \" + \\\n",
    "              str('%.2f'%(cuota_interes[t-1])) + \"         \" + \\\n",
    "              str('%.2f'%(deuda_capital[t-1]))\n",
    "             )\n",
    "\n",
    "#meses = np.linspace(1, 20*12, 20*12)\n",
    "def get_mes(N):\n",
    "    return np.linspace(1, N, N)\n",
    "\n",
    "def get_cuota_mensual_total_2(xs):\n",
    "    print(\"hi\")\n",
    "    p=1000000\n",
    "    i=0.14\n",
    "    out = []\n",
    "    for n in xs:\n",
    "        #print(n)\n",
    "        num = p * i * (i+1)**n\n",
    "        den = (i+1)**n - 1\n",
    "    out.append(num/den)\n",
    "    return out\n",
    "\n",
    "#nbinteract --spec Untitled1.ipynb\n",
    "#nbi.line(get_mes, get_cuota_mensual_total_2, N=(1, 240))"
   ]
  },
  {
   "cell_type": "code",
   "execution_count": 75,
   "metadata": {},
   "outputs": [],
   "source": [
    "from ipywidgets import IntSlider\n",
    "from ipywidgets.embed import embed_minimal_html\n",
    "\n",
    "slider = IntSlider(value=40)\n",
    "embed_minimal_html('export.html', views=[slider], title='Widgets export')\n"
   ]
  },
  {
   "cell_type": "code",
   "execution_count": 76,
   "metadata": {},
   "outputs": [
    {
     "data": {
      "application/vnd.jupyter.widget-view+json": {
       "model_id": "91aef24d644649509b117d7a9ef734c9",
       "version_major": 2,
       "version_minor": 0
      },
      "text/plain": [
       "interactive(children=(BoundedIntText(value=100000, description='Loan Amount:', max=1000000, min=1, step=100), …"
      ]
     },
     "metadata": {},
     "output_type": "display_data"
    },
    {
     "data": {
      "text/plain": [
       "<function __main__.mostrar_evolucion_credito(P, I, N)>"
      ]
     },
     "execution_count": 76,
     "metadata": {},
     "output_type": "execute_result"
    }
   ],
   "source": [
    "#interact(mostrar_evolucion_credito, P = 1000000, I = 17, N = 20)\n",
    "\n",
    "interact(mostrar_evolucion_credito,\n",
    "         P=wg.BoundedIntText(description='Loan Amount:',value=100000,\n",
    "    min=1,\n",
    "    max=1000000,\n",
    "    step=100)\n",
    "         , I=wg.BoundedFloatText(description='Interest Rate:', value=2.2, min=1, max=10, step=0.1), \n",
    "         N=wg.BoundedIntText(description='Years:', value=2, min=1, max=10, step=0.1))\n",
    "\n"
   ]
  },
  {
   "cell_type": "code",
   "execution_count": 83,
   "metadata": {},
   "outputs": [
    {
     "data": {
      "text/html": [
       "<script>\n",
       "        code_show=true; \n",
       "        function code_toggle(){\n",
       "            if (code_show){ $('div.input').hide(); $('div.prompt').hide(); } \n",
       "            else { $('div.input').show(); $('div.prompt').show(); } \n",
       "            code_showk = !code_show }\n",
       "        $( document ).ready(code_toggle); \n",
       "        </script>"
      ]
     },
     "metadata": {},
     "output_type": "display_data"
    },
    {
     "data": {
      "text/html": [
       "<button onclick=\"javascript:code_toggle()\">Mostrar/Ocultar Codigo</button>"
      ]
     },
     "metadata": {},
     "output_type": "display_data"
    }
   ],
   "source": [
    "from IPython.display import Image, Javascript\n",
    "from IPython.core.display import display, display_html, HTML\n",
    "display_html(\n",
    "    '''<script>\n",
    "        code_show=true; \n",
    "        function code_toggle(){\n",
    "            if (code_show){ $('div.input').hide(); $('div.prompt').hide(); } \n",
    "            else { $('div.input').show(); $('div.prompt').show(); } \n",
    "            code_showk = !code_show }\n",
    "        $( document ).ready(code_toggle); \n",
    "        </script>'''\n",
    "    , raw=True)\n",
    "\n",
    "\n",
    "display_html('<button onclick=\"javascript:code_toggle()\">Mostrar/Ocultar Codigo</button>', raw=True)"
   ]
  },
  {
   "cell_type": "code",
   "execution_count": null,
   "metadata": {},
   "outputs": [],
   "source": []
  },
  {
   "cell_type": "code",
   "execution_count": 84,
   "metadata": {},
   "outputs": [],
   "source": [
    "import json\n",
    "\n",
    "from ipywidgets import IntSlider\n",
    "from ipywidgets.embed import embed_data\n",
    "\n",
    "s1 = IntSlider(max=200, value=100)\n",
    "s2 = IntSlider(value=40)\n",
    "data = embed_data(views=[s1, s2])\n",
    "\n",
    "html_template = \"\"\"\n",
    "<html>\n",
    "  <head>\n",
    "\n",
    "    <title>Widget export</title>\n",
    "\n",
    "    <!-- Load RequireJS, used by the IPywidgets for dependency management -->\n",
    "    <script \n",
    "      src=\"https://cdnjs.cloudflare.com/ajax/libs/require.js/2.3.4/require.min.js\" \n",
    "      integrity=\"sha256-Ae2Vz/4ePdIu6ZyI/5ZGsYnb+m0JlOmKPjt6XZ9JJkA=\" \n",
    "      crossorigin=\"anonymous\">\n",
    "    </script>\n",
    "\n",
    "    <!-- Load IPywidgets bundle for embedding. -->\n",
    "    <script\n",
    "      data-jupyter-widgets-cdn=\"https://cdn.jsdelivr.net/npm/\"\n",
    "      src=\"https://unpkg.com/@jupyter-widgets/html-manager@*/dist/embed-amd.js\" \n",
    "      crossorigin=\"anonymous\">\n",
    "    </script>\n",
    "\n",
    "    <!-- The state of all the widget models on the page -->\n",
    "    <script type=\"application/vnd.jupyter.widget-state+json\">\n",
    "      {manager_state}\n",
    "    </script>\n",
    "  </head>\n",
    "\n",
    "  <body>\n",
    "\n",
    "    <h1>Widget export</h1>\n",
    "\n",
    "    <div id=\"first-slider-widget\">\n",
    "      <!-- This script tag will be replaced by the view's DOM tree -->\n",
    "      <script type=\"application/vnd.jupyter.widget-view+json\">\n",
    "        {widget_views[0]}\n",
    "      </script>\n",
    "    </div>\n",
    "\n",
    "    <hrule />\n",
    "\n",
    "    <div id=\"second-slider-widget\">\n",
    "      <!-- This script tag will be replaced by the view's DOM tree -->\n",
    "      <script type=\"application/vnd.jupyter.widget-view+json\">\n",
    "        {widget_views[1]}\n",
    "      </script>\n",
    "    </div>\n",
    "\n",
    "  </body>\n",
    "</html>\n",
    "\"\"\"\n",
    "\n",
    "manager_state = json.dumps(data['manager_state'])\n",
    "widget_views = [json.dumps(view) for view in data['view_specs']]\n",
    "rendered_template = html_template.format(manager_state=manager_state, widget_views=widget_views)\n",
    "with open('export.html', 'w') as fp:\n",
    "    fp.write(rendered_template)\n"
   ]
  },
  {
   "cell_type": "code",
   "execution_count": 85,
   "metadata": {},
   "outputs": [],
   "source": [
    "from ipywidgets.embed import embed_minimal_html, dependency_state\n",
    "\n",
    "s1 = IntSlider(max=200, value=100)\n",
    "s2 = IntSlider(value=40)\n",
    "embed_minimal_html('export.html', views=[s1, s2], state=dependency_state([s1, s2]))"
   ]
  },
  {
   "cell_type": "code",
   "execution_count": 87,
   "metadata": {},
   "outputs": [
    {
     "ename": "SyntaxError",
     "evalue": "positional argument follows keyword argument (<ipython-input-87-7c20f7baf743>, line 1)",
     "output_type": "error",
     "traceback": [
      "\u001b[0;36m  File \u001b[0;32m\"<ipython-input-87-7c20f7baf743>\"\u001b[0;36m, line \u001b[0;32m1\u001b[0m\n\u001b[0;31m    nbi.publish(nb_name='Marcos', 'Untitled1.ipynb')\u001b[0m\n\u001b[0m                                 ^\u001b[0m\n\u001b[0;31mSyntaxError\u001b[0m\u001b[0;31m:\u001b[0m positional argument follows keyword argument\n"
     ]
    }
   ],
   "source": [
    "nbi.publish(nb_name='Marcos', 'Untitled1.ipynb')"
   ]
  },
  {
   "cell_type": "code",
   "execution_count": null,
   "metadata": {},
   "outputs": [],
   "source": []
  }
 ],
 "metadata": {
  "kernelspec": {
   "display_name": "Python 3",
   "language": "python",
   "name": "python3"
  },
  "language_info": {
   "codemirror_mode": {
    "name": "ipython",
    "version": 3
   },
   "file_extension": ".py",
   "mimetype": "text/x-python",
   "name": "python",
   "nbconvert_exporter": "python",
   "pygments_lexer": "ipython3",
   "version": "3.6.5"
  }
 },
 "nbformat": 4,
 "nbformat_minor": 2
}
